{
 "cells": [
  {
   "cell_type": "raw",
   "metadata": {
    "vscode": {
     "languageId": "raw"
    }
   },
   "source": [
    "---\n",
    "layout: post\n",
    "title: 3.2 Big Ideas Period 1\n",
    "author: Soni Dhenuva, Katherine Chen, Aditi Bandaru, Sanya Kapoor\n",
    "permalink: /csp/big-idea/home\n",
    "menu: nav/csp_units/csp_bigIdea3_3.2_p1.html\n",
    "toc: true\n",
    "type: ccc\n",
    "courses: {  csp: {week: 5} }\n",
    "---"
   ]
  },
  {
   "cell_type": "markdown",
   "metadata": {},
   "source": [
    "- We will be going over all the data types in python and covering Python to JSON conversion Methods\n"
   ]
  },
  {
   "cell_type": "markdown",
   "metadata": {},
   "source": []
  }
 ],
 "metadata": {
  "language_info": {
   "name": "python"
  }
 },
 "nbformat": 4,
 "nbformat_minor": 2
}
