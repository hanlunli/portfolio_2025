{
 "cells": [
  {
   "cell_type": "raw",
   "metadata": {
    "vscode": {
     "languageId": "raw"
    }
   },
   "source": [
    "---\n",
    "toc: false\n",
    "comments: true\n",
    "layout: post\n",
    "title: 3.2 Lesson Period 2\n",
    "description: Student led teaching on Abstraction. Teaching how various data types can use abstraction for computational efficiency.\n",
    "permalink: /csp/big-idea/p2/3-2/\n",
    "categories: [CSP Big Ideas]\n",
    "author:  Nikhil Maturi, Yash Parikh, Neil Chandra, Rohan Bojja (P.2)\n",
    "menu: nav/csp_units/csp_unit3_p2_fundamentals.html\n",
    "---"
   ]
  },
  {
   "cell_type": "markdown",
   "metadata": {},
   "source": [
    "Here is our 3-2 main menu"
   ]
  },
  {
   "cell_type": "markdown",
   "metadata": {},
   "source": [
    "# Popcorn Hack #1\n",
    "> Please create a dictionary containing the following values in both JavaScript and Python.\n",
    "> The dictionary should contain the following values: bananas, apples, and pears, and assign them to numbers 1, 2, and 3.\n",
    "> Please print out the output of access one values through its corresponding key.\n",
    "\n",
    "// JavaScript\n",
    "var mydictionary = {\n",
    "    <YOURCONTENTHERE>\n",
    "};"
   ]
  },
  {
   "cell_type": "markdown",
   "metadata": {},
   "source": [
    "# Popcorn Hack #2\n",
    "> Please create a simple calculator in JavaScript and python, with only the basic functions of division, addition, subtraction, and multiplication.\n",
    "> You do not need to build an interface for the calculator, it can be completely command line based.\n",
    "> For example, first input = first number, second input = second number, and third input = math function.\n",
    "\n",
    "// Python\n",
    "firstnumber = input(\"Please Enter the First Number Here: \")\n",
    "secondnumber = input(\"Please Enter the Second Number Here: \")\n",
    "mathfunction = input(\"Please Enter the function here: \") #Ex: +, -, *, /\n",
    "\n",
    "firstnumber = int(firstnumber)\n",
    "secondnumber = int(secondnumber)\n",
    "mathfunction = str(mathfunction)\n",
    "\n",
    "if mathfunction == +\n",
    "    print(firstnumber + secondnumber)\n",
    "elsif mathfunction == -\n",
    "    print(firstnumber - secondnumber)\n",
    "elsif mathfunction == *\n",
    "    print(firstnumber * secondnumber)\n",
    "elsif mathfunction == /\n",
    "    print(firstnumber / secondnumber)"
   ]
  },
  {
   "cell_type": "code",
   "execution_count": null,
   "metadata": {},
   "outputs": [],
   "source": [
    "firstnumber = input(\"Please Enter the First Number Here: \")\n",
    "secondnumber = input(\"Please Enter the Second Number Here: \")\n",
    "mathfunction = input(\"Please Enter the function here: \") #Ex: +, -, *, /\n",
    "\n",
    "firstnumber = int(firstnumber)\n",
    "secondnumber = int(secondnumber)\n",
    "mathfunction = str(mathfunction)\n",
    "\n",
    "if mathfunction == \"+\":\n",
    "    print(firstnumber + secondnumber)\n",
    "elif mathfunction == \"-\":\n",
    "    print(firstnumber - secondnumber)\n",
    "elif mathfunction == \"*\":\n",
    "    print(firstnumber * secondnumber)\n",
    "elif mathfunction == \"/\":\n",
    "    print(firstnumber / secondnumber)"
   ]
  }
 ],
 "metadata": {
  "language_info": {
   "name": "python"
  }
 },
 "nbformat": 4,
 "nbformat_minor": 2
}
