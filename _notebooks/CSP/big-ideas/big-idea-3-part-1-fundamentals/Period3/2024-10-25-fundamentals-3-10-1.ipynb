{
 "cells": [
  {
   "cell_type": "raw",
   "metadata": {
    "vscode": {
     "languageId": "raw"
    }
   },
   "source": [
    "---\n",
    "toc: false\n",
    "comments: true\n",
    "layout: post\n",
    "title: 3.10 Python lists (More Information)\n",
    "description: This is student-led teaching on lists! Here you'll learn how to manipulate individual elements or items in a list using indexing.\n",
    "permalink: /csp/big-idea/p3/3-10-1\n",
    "categories: [CSP Big Ideas]\n",
    "author:  Ryan, Jackson, Arush, Yash, Aranya\n",
    "menu: nav/csp_units/csp_unit3_p3_fundamentals.html\n",
    "---"
   ]
  },
  {
   "cell_type": "markdown",
   "metadata": {
    "vscode": {
     "languageId": "raw"
    }
   },
   "source": [
    "### More Examples "
   ]
  },
  {
   "cell_type": "raw",
   "metadata": {
    "vscode": {
     "languageId": "raw"
    }
   },
   "source": [
    "If you're a little lost on how to use a python list, below is an example that combines some of the operations and topics discussed in 3.10. "
   ]
  },
  {
   "cell_type": "code",
   "execution_count": null,
   "metadata": {},
   "outputs": [],
   "source": [
    "# Creating a list of colors\n",
    "colors = ['red', 'blue', 'green']\n",
    "\n",
    "# Modifying the list\n",
    "colors.append('yellow')  # Adds 'yellow' to the end\n",
    "colors.insert(1, 'orange')  # Inserts 'orange' at index 1\n",
    "print(colors)  # ['red', 'orange', 'blue', 'green', 'yellow']\n",
    "\n",
    "# Removing an element\n",
    "colors.remove('blue') # Removes 'blue'\n",
    "print(colors)  # ['red', 'orange', 'green', 'yellow']\n",
    "\n",
    "# Checking for existence\n",
    "if 'orange' in colors:\n",
    "    print(\"Orange is in the list!\") \n",
    "\n",
    "# Iterating over the list\n",
    "for color in colors:\n",
    "    print(color)  # Prints each color\n"
   ]
  }
 ],
 "metadata": {
  "language_info": {
   "name": "python"
  }
 },
 "nbformat": 4,
 "nbformat_minor": 2
}
