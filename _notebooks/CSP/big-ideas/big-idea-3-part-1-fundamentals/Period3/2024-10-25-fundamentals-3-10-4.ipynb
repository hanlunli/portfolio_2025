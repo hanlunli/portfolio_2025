{
 "cells": [
  {
   "cell_type": "raw",
   "metadata": {
    "vscode": {
     "languageId": "raw"
    }
   },
   "source": [
    "---\n",
    "toc: false\n",
    "comments: true\n",
    "layout: post\n",
    "title: 3.10 Javascript Hacks\n",
    "description: Student practice using Javascript for lists. \n",
    "permalink: /csp/big-idea/p3/3-10-4\n",
    "categories: [CSP Big Ideas]\n",
    "author:  Ryan, Jackson, Arush, Yash, Aranya\n",
    "menu: nav/csp_units/csp_unit3_p3_fundamentals.html\n",
    "---"
   ]
  },
  {
   "cell_type": "markdown",
   "metadata": {},
   "source": [
    "### Popcorn Hack #2 \n",
    "\n",
    "All it takes to perform some complex calculations is one method. reduce() sums all the numbers in a given array. More specifically, reduce() takes a callback function (basically a function that can be referenced in later bits of code), which processes all the items in a given array. "
   ]
  },
  {
   "cell_type": "code",
   "execution_count": null,
   "metadata": {
    "vscode": {
     "languageId": "javascript"
    }
   },
   "outputs": [],
   "source": [
    "%%javascript\n",
    "\n",
    "const numbers = [1, 2, 3, 4, 5];\n",
    "const sum = numbers.reduce((accumulator, current) => accumulator + current, 0);\n",
    "\n",
    "console.log(sum); // Output: 15\n",
    "\n",
    "// Accumulator holds the running total (or whatever you want to accumulate). Current refers to the current item being processed. The second argument (0) initializes the accumulator."
   ]
  },
  {
   "cell_type": "markdown",
   "metadata": {},
   "source": [
    "### Javascript Hack\n",
    "\n",
    "- It's time to go shopping! Try to create a program that allows users to manage items using an array, which can be visually represented with a shopping cart. While not necessary, feel free to show the cart filling up with icons (items) as the user adds/subtracts items. "
   ]
  }
 ],
 "metadata": {
  "language_info": {
   "name": "python"
  }
 },
 "nbformat": 4,
 "nbformat_minor": 2
}
