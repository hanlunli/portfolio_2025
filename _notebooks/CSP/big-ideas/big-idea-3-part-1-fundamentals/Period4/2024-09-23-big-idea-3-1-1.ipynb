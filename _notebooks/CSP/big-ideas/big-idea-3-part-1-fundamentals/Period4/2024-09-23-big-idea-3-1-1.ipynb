{
 "cells": [
  {
   "cell_type": "raw",
   "metadata": {
    "vscode": {
     "languageId": "raw"
    }
   },
   "source": [
    "---\n",
    "layout: post\n",
    "title: Lesson 3.1 Variables\n",
    "categories: [Collaboration]\n",
    "permalink: /csp/big-idea/p4/3-1-1\n",
    "comments: true\n",
    "---"
   ]
  },
  {
   "cell_type": "raw",
   "metadata": {
    "vscode": {
     "languageId": "raw"
    }
   },
   "source": [
    "{% include nav/csp_units/csp_unit3_p4_fundamentals.html %}"
   ]
  },
  {
   "cell_type": "markdown",
   "metadata": {},
   "source": [
    "## 3.1 Variables and Assignments\n"
   ]
  },
  {
   "cell_type": "markdown",
   "metadata": {},
   "source": [
    "### Variables\n",
    "\n",
    "Variables are values that can store data and can change depending on info passed through a program.\n",
    "\n",
    "Variables can be useful when storing different values that change based on user input, for example, changing the avatar, sound effects, and powerups in a video game based on a character selected by the player early on.\n",
    "\n",
    "Variable names can be anything from just a letter, like `n` for number to a descriptive name like `grade`. It's important that variable names can be understood by human readers and not just computers, so make sure to pick something that makes sense."
   ]
  },
  {
   "cell_type": "code",
   "execution_count": 87,
   "metadata": {},
   "outputs": [],
   "source": [
    "n = 17\n",
    "name = \"Maryam\"\n",
    "grade = 12"
   ]
  },
  {
   "cell_type": "markdown",
   "metadata": {},
   "source": [
    "`Popcorn Hack`: Try defining your own variables based on information about you! Bonus points: Get creative!"
   ]
  },
  {
   "cell_type": "markdown",
   "metadata": {},
   "source": [
    "## Variable Naming\n",
    "\n",
    "Remember, it's important that your variable names can easily be understood by others, both in your group and in the class. When naming a variable, you cannot use any spaces, so you must use another way to call multi-word variables. \n",
    "\n",
    "There are three common formats used when formatting the name for your variable that you can use to break up the text. **In Python, variable names are CASE SENSITIVE.** Make sure you remember which letters are capital in your variable names."
   ]
  },
  {
   "cell_type": "markdown",
   "metadata": {},
   "source": [
    "#### SnakeCase\n",
    "\n",
    "Replace all spaces with underscores. The standard naming convention in Python."
   ]
  },
  {
   "cell_type": "code",
   "execution_count": 88,
   "metadata": {},
   "outputs": [],
   "source": [
    "player_one = \"Joanna\""
   ]
  },
  {
   "cell_type": "markdown",
   "metadata": {},
   "source": [
    "`Popcorn Hack:` Make your own SnakeCase variable but set it equal to an integer."
   ]
  },
  {
   "cell_type": "markdown",
   "metadata": {},
   "source": [
    "#### PascalCase\n",
    "\n",
    "Capitalize every new word in variable name, but include no spaces. This example is for learning purposes only, but stay away from this case in Python, as it is reserved for class names."
   ]
  },
  {
   "cell_type": "code",
   "execution_count": 89,
   "metadata": {},
   "outputs": [],
   "source": [
    "PlayerOne = \"Nora\""
   ]
  },
  {
   "cell_type": "markdown",
   "metadata": {},
   "source": [
    "`Popcorn Hack:` Make your own PascalCase variable."
   ]
  },
  {
   "cell_type": "markdown",
   "metadata": {},
   "source": [
    "#### CamelCase\n",
    "\n",
    "Capitalize every word after the first in the variable name. Not typically used in Python."
   ]
  },
  {
   "cell_type": "code",
   "execution_count": 90,
   "metadata": {},
   "outputs": [],
   "source": [
    "playerOne = \"Kushi\""
   ]
  },
  {
   "cell_type": "markdown",
   "metadata": {},
   "source": [
    "`Popcorn Hack:` Make your own CamelCase variable."
   ]
  },
  {
   "cell_type": "code",
   "execution_count": 91,
   "metadata": {},
   "outputs": [
    {
     "name": "stdout",
     "output_type": "stream",
     "text": [
      "Joanna Nora Kushi\n"
     ]
    }
   ],
   "source": [
    "# Popcorn Hack Cell\n",
    "player_one = \"Joanna\"\n",
    "PlayerOne = \"Nora\"\n",
    "playerOne = \"Kushi\"\n",
    "\n",
    "# All three variables are different.  Programming languages are sensitive to snake case, upper case, etc.\n",
    "print(player_one, PlayerOne, playerOne)"
   ]
  },
  {
   "cell_type": "markdown",
   "metadata": {},
   "source": [
    "## Variable Types! :)"
   ]
  },
  {
   "cell_type": "markdown",
   "metadata": {},
   "source": [
    "\n",
    "In python there are several diffrent types of varriables,  in this part of the lesson we will go over the most commonly used ones!\n",
    "\n",
    "Integers, strings, booleans, and floats"
   ]
  },
  {
   "cell_type": "markdown",
   "metadata": {},
   "source": [
    "#### Integers\n",
    "\n",
    "Integers are whole number such as -2, -1, 0, 1, or 2, to name a few!"
   ]
  },
  {
   "cell_type": "code",
   "execution_count": 92,
   "metadata": {},
   "outputs": [],
   "source": [
    "# Here is an example of an intiger used as a variable\n",
    "\n",
    "n = 3"
   ]
  },
  {
   "cell_type": "markdown",
   "metadata": {},
   "source": [
    "In specific languages (like java, and C++) you have to specify the data type by saying 'int'"
   ]
  },
  {
   "cell_type": "code",
   "execution_count": 98,
   "metadata": {
    "vscode": {
     "languageId": "javascript"
    }
   },
   "outputs": [
    {
     "data": {
      "application/javascript": "\n//here is an example of a java integer used as a variables\n\nint n = 3\n",
      "text/plain": [
       "<IPython.core.display.Javascript object>"
      ]
     },
     "metadata": {},
     "output_type": "display_data"
    }
   ],
   "source": [
    "%%js\n",
    "\n",
    "//here is an example of a java integer used as a variables\n",
    "int n = 3"
   ]
  },
  {
   "cell_type": "markdown",
   "metadata": {},
   "source": [
    "#### Strings\n",
    "\n",
    "theres are chains of: words, numbers, or charecters, and they are placed in \" \""
   ]
  },
  {
   "cell_type": "code",
   "execution_count": 94,
   "metadata": {},
   "outputs": [],
   "source": [
    "#camel case\n",
    "nameStatement = \"My name is Nora\"\n",
    "\n",
    "#snake case\n",
    "name_Statment = \"My name is Nora\""
   ]
  },
  {
   "cell_type": "markdown",
   "metadata": {},
   "source": [
    "#### Booleans\n",
    "\n",
    "Booleans are true or false statments.  They are used in conditional statments, making an action occour is something is true or false."
   ]
  },
  {
   "cell_type": "code",
   "execution_count": 96,
   "metadata": {},
   "outputs": [
    {
     "name": "stdout",
     "output_type": "stream",
     "text": [
      "0\n"
     ]
    }
   ],
   "source": [
    "#declared varriable\n",
    "JoannaDrinksMatcha = False\n",
    "\n",
    "#boolean to check if conditions have been met\n",
    "if JoannaDrinksMatcha == True: \n",
    "   print (1) \n",
    "else: \n",
    "   print (0) "
   ]
  },
  {
   "cell_type": "markdown",
   "metadata": {},
   "source": [
    "This shows an if else boolean, where if joanna drinks matcha then it will show that as 1, and if not then it will stay at 0!"
   ]
  },
  {
   "cell_type": "markdown",
   "metadata": {},
   "source": [
    "\n",
    "\n",
    "#### Float\n",
    "\n",
    "Floats are numbers containing decimals (the oposite of Integers)"
   ]
  },
  {
   "cell_type": "code",
   "execution_count": 2,
   "metadata": {},
   "outputs": [],
   "source": [
    "#heres an example of a float!\n",
    "pi = 3.14"
   ]
  },
  {
   "cell_type": "markdown",
   "metadata": {},
   "source": [
    "#### Lists\n",
    "Lists are ordered items.  They can contain a mix of data types but most comonly are all the same data type.  Lists can contain integers, floats, strings, and more!"
   ]
  },
  {
   "cell_type": "code",
   "execution_count": 3,
   "metadata": {},
   "outputs": [],
   "source": [
    "#here an an example of a list of strings\n",
    "GroceryList = [\"apples\",\"honey\",\"almond milk\",\"cereal\"]"
   ]
  },
  {
   "cell_type": "markdown",
   "metadata": {},
   "source": [
    "`Popcorn Hack`: try making your own grocery list incorperating all the diffrent data types!"
   ]
  },
  {
   "cell_type": "markdown",
   "metadata": {},
   "source": [
    "### Dictionaries in Python\n",
    "\n",
    "Dictionaries contain data structures and include and store key-value pairs. In the dictionary, there are specific values that associate with a unique key. This is useful since it makes for easier and efficient lookups, as well as finding the data and values. "
   ]
  },
  {
   "cell_type": "code",
   "execution_count": null,
   "metadata": {},
   "outputs": [],
   "source": [
    "my_dict = {\n",
    "    \"name\": \"Bob\",\n",
    "    \"age\": 78,\n",
    "    \"city\": \"Las Vegas\"\n",
    "}"
   ]
  },
  {
   "cell_type": "markdown",
   "metadata": {},
   "source": [
    "In this specific dictionary, we collect data in order to show the attributes of a person."
   ]
  },
  {
   "cell_type": "code",
   "execution_count": null,
   "metadata": {},
   "outputs": [],
   "source": [
    "# Data types cell\n",
    "\n",
    "# Variable names in Python typically follow snake_case \n",
    "friendly_greeting = \"Hello\"\n",
    "my_name = \"Bob Tastic\"\n",
    "my_age = 78\n",
    "\n",
    "# Printing data types often requires mixing types and formatting them correctly\n",
    "\n",
    "# print with concatenation\n",
    "print(\"Example 1: \" + friendly_greeting + \" \" + my_name + \", I see you are \" + str(my_age) + \" years old.\")\n",
    "\n",
    "# or you can use f-strings\n",
    "print(f\"Example 2: {friendly_greeting} {my_name}, I see you are {my_age} years old.\")\n",
    "\n",
    "# or you can separate the variable in the print statement\n",
    "print(\"Example 3:\", friendly_greeting, my_name,\", I see you are\", my_age, \"years old.\")\n"
   ]
  },
  {
   "cell_type": "markdown",
   "metadata": {},
   "source": [
    "### Addition versus Concatenation \n",
    "\n",
    "Operators like + produce different outcomes based on the different data types. +'s are usually used for numbers, but for characters it connects sequences in a process called concatenation. "
   ]
  },
  {
   "cell_type": "code",
   "execution_count": null,
   "metadata": {},
   "outputs": [],
   "source": [
    "# Addition of two integer variables\n",
    "\n",
    "int1 = 3\n",
    "int2 = 4\n",
    "print(\"Concatation between two non strings in a print statement will EVALUATE them.\")\n",
    "print(\"Notice how they get ADDED together.\")\n",
    "print(int1 + int2)\n",
    "print()\n",
    "\n",
    "# Concatenation of two string variables\n",
    "\n",
    "print(\"Concatation between two  strings in a print statement will CONNECT them.\")\n",
    "print(\"Notice how they get CONNECTED together.\")\n",
    "string1 = \"3\"\n",
    "string2 = \"4\"\n",
    "print(string1 + string2) # notice how this CONNECTS the variables\n",
    "\n",
    "# Print statements like the above can be used to EVALUATE the result of + on two variables"
   ]
  },
  {
   "cell_type": "markdown",
   "metadata": {},
   "source": [
    "### Hacks\n",
    "\n",
    "1. Create variables for your name, age, grade, or any information about you, making at least one string and integer. Feel free to get creative and do something else!\n",
    "2. Put the variables in a list and a dictionary\n",
    "3. Experiment with using `+` and concatenation to combine different variable outputs\n",
    "\n",
    "<br>\n",
    "\n",
    "- *Make sure to follow snake_case*\n",
    "- *Create code cells to declare, or define, your variables and variable types*\n",
    "- *Use comments to explain your code*"
   ]
  }
 ],
 "metadata": {
  "kernelspec": {
   "display_name": "venv",
   "language": "python",
   "name": "python3"
  },
  "language_info": {
   "codemirror_mode": {
    "name": "ipython",
    "version": 3
   },
   "file_extension": ".py",
   "mimetype": "text/x-python",
   "name": "python",
   "nbconvert_exporter": "python",
   "pygments_lexer": "ipython3",
   "version": "3.12.5"
  }
 },
 "nbformat": 4,
 "nbformat_minor": 2
}
