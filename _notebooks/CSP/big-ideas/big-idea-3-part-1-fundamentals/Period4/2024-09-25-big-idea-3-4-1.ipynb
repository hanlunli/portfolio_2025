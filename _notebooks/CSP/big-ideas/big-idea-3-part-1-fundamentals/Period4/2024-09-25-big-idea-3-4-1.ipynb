{
 "cells": [
  {
   "cell_type": "raw",
   "metadata": {
    "vscode": {
     "languageId": "raw"
    }
   },
   "source": [
    "---\n",
    "layout: post\n",
    "title: Lesson 3.4 Strings\n",
    "categories: [Collaboration]\n",
    "permalink: /csp/big-idea/p4/3-4-1\n",
    "comments: true\n",
    "---"
   ]
  },
  {
   "cell_type": "raw",
   "metadata": {
    "vscode": {
     "languageId": "raw"
    }
   },
   "source": [
    "{% include nav/csp_units/csp_unit3_p4_fundamentals.html %}"
   ]
  },
  {
   "cell_type": "markdown",
   "metadata": {},
   "source": [
    "<br>\n",
    "<h2>3.4 Strings</h2><br>\n",
    "<ul>\n",
    "    <li>Strings are ordered sequence of characters (characters = numbers, letters, even space)</li>\n",
    "    <li>Substring is part of an existing string</li>\n",
    "    <li>Some procedures exist that can be used with strings, each language has its own functions</li>\n",
    "    <ul>\n",
    "    <li>len (str)</li>\n",
    "   <li>Returns the number of characters in the string</li></ul>\n",
    "</ul>\n",
    "<br>\n",
    "<h4>len (str)</h4>\n"
   ]
  },
  {
   "cell_type": "code",
   "execution_count": 5,
   "metadata": {},
   "outputs": [
    {
     "data": {
      "text/plain": [
       "5"
      ]
     },
     "execution_count": 5,
     "metadata": {},
     "output_type": "execute_result"
    }
   ],
   "source": [
    "len (\"APCSP\")\n",
    "# returns 5 (how many characters/ length of string)"
   ]
  },
  {
   "cell_type": "markdown",
   "metadata": {},
   "source": [
    "<span style=\"color:pink\">\n",
    "<h4>Concat</h4>\n",
    "- Merges both strings together\n",
    "<h5>Example:</h5>\n",
    "<br>"
   ]
  },
  {
   "cell_type": "code",
   "execution_count": 2,
   "metadata": {},
   "outputs": [
    {
     "name": "stdout",
     "output_type": "stream",
     "text": [
      "APCSP\n"
     ]
    }
   ],
   "source": [
    "concat = \"AP\" + \"CSP\"\n",
    "# Concat is simply a variable\n",
    "print(concat)"
   ]
  },
  {
   "cell_type": "markdown",
   "metadata": {},
   "source": [
    "## Popcorn hack #4: \n",
    "<span style=\"color:turquoise\">\n",
    "Find number of characters in the name of your favorite flower. Then use concat to merge two animal names together. Use substring to show a specific range of characters\n",
    "<br>\n",
    "</span>"
   ]
  },
  {
   "cell_type": "code",
   "execution_count": 17,
   "metadata": {},
   "outputs": [
    {
     "name": "stdout",
     "output_type": "stream",
     "text": [
      "13\n",
      "turtlekangaroo\n",
      "leka\n"
     ]
    }
   ],
   "source": [
    "#Find the number of characters in a word using Len\n",
    "length = len(\"Chrysanthemum\")\n",
    "print(length)\n",
    "\n",
    "\n",
    "# Combine 2 words with concat\n",
    "concat = \"turtle\" + \"kangaroo\"\n",
    "print (concat)\n",
    "\n",
    "\n",
    "# Use Substring to show 5th and 8th characters\n",
    "# Start at 0, so subtract one and use 4 and 8\n",
    "substring = concat[4:8]\n",
    "print (substring)"
   ]
  },
  {
   "cell_type": "markdown",
   "metadata": {},
   "source": [
    "## Palindromes\n",
    "<span style=\"color:pink\">\n",
    "A palindrome is a string that reads the same from right to left as left to right.\n",
    "<li>Ex: 2112, mom, taco cat</li>\n",
    "\n",
    "</span>"
   ]
  },
  {
   "cell_type": "code",
   "execution_count": 17,
   "metadata": {},
   "outputs": [
    {
     "name": "stdout",
     "output_type": "stream",
     "text": [
      "True\n",
      "False\n"
     ]
    }
   ],
   "source": [
    "def palindrome(input_str):\n",
    "    # Remove spaces and convert the string to lowercase\n",
    "    clean_str = input_str.replace(\" \", \"\").lower()\n",
    "    # Check if the cleaned string is equal to its reverse\n",
    "    return clean_str == clean_str[::-1]\n",
    "\n",
    "\n",
    "print(palindrome(\"go hang a salami im a lasagna hog\")) # True\n",
    "print(palindrome(\"hi\")) # False\n"
   ]
  },
  {
   "cell_type": "markdown",
   "metadata": {},
   "source": [
    "## Hacks\n",
    "Using sections above...\n",
    "1. Make a text analyzer with strings\n",
    "- Accepts input from user\n",
    "- Counts total letters and spaces of input\n",
    "- Counts number of vowels\n",
    "- Calculates average word length\n",
    "- Find middle character (letters and numbers only, no spaces, punctuation, etc.)\n",
    "- Correctly displays everything!\n",
    "<br>\n",
    "2. Other criteria:\n",
    "- make sure program can handle upper and lowercase letters\n",
    "- Add your own unique function"
   ]
  }
 ],
 "metadata": {
  "kernelspec": {
   "display_name": "venv",
   "language": "python",
   "name": "python3"
  },
  "language_info": {
   "codemirror_mode": {
    "name": "ipython",
    "version": 3
   },
   "file_extension": ".py",
   "mimetype": "text/x-python",
   "name": "python",
   "nbconvert_exporter": "python",
   "pygments_lexer": "ipython3",
   "version": "3.10.12"
  }
 },
 "nbformat": 4,
 "nbformat_minor": 2
}
