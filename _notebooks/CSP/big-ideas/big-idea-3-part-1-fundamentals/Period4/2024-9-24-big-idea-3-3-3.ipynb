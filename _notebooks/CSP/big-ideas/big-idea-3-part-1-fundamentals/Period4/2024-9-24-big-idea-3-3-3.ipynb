{
 "cells": [
  {
   "cell_type": "raw",
   "metadata": {
    "vscode": {
     "languageId": "raw"
    }
   },
   "source": [
    "---\n",
    "toc: false\n",
    "comments: true\n",
    "layout: post\n",
    "title: 3.3 Python Mathematical Hacks\n",
    "description: Student led teaching on  Mathematical Expressions. Learn how mathematical expressions involve using arithmetic operators (like addition, subtraction, multiplication, and division) to perform calculations\n",
    "permalink: /csp/big-idea/p4/3-3-3\n",
    "menu: nav/csp_units/csp_unit3_p4_fundamentals.html\n",
    "---"
   ]
  },
  {
   "cell_type": "markdown",
   "metadata": {},
   "source": [
    "# Hack (Function for Basic Arithmetic Operations)"
   ]
  },
  {
   "cell_type": "code",
   "execution_count": 1,
   "metadata": {},
   "outputs": [
    {
     "name": "stdout",
     "output_type": "stream",
     "text": [
      "Addition: 10 + 5 = 15\n",
      "Subtraction: 10 - 5 = 5\n",
      "Multiplication: 10 * 5 = 50\n",
      "Division: 10 / 5 = 2.0\n",
      "Modulus: 10 % 5 = 0\n"
     ]
    }
   ],
   "source": [
    "def basicOperations(a, b):\n",
    "    sum = a + b\n",
    "    difference = a - b\n",
    "    product = a * b\n",
    "    quotient = a / b\n",
    "    remainder = a % b\n",
    "\n",
    "    print(f\"Addition: {a} + {b} = {sum}\")\n",
    "    print(f\"Subtraction: {a} - {b} = {difference}\")\n",
    "    print(f\"Multiplication: {a} * {b} = {product}\")\n",
    "    print(f\"Division: {a} / {b} = {quotient}\")\n",
    "    print(f\"Modulus: {a} % {b} = {remainder}\")\n",
    "\n",
    "\n",
    "basicOperations(10, 5)"
   ]
  },
  {
   "cell_type": "markdown",
   "metadata": {},
   "source": [
    "# Hack (Fibbonaci Sequence)"
   ]
  },
  {
   "cell_type": "code",
   "execution_count": 4,
   "metadata": {},
   "outputs": [
    {
     "name": "stdout",
     "output_type": "stream",
     "text": [
      "The 7th Fibonacci number is: 8\n"
     ]
    }
   ],
   "source": [
    "def fibonacci(n):\n",
    "    if n == 0:\n",
    "        return 0\n",
    "    if n == 1: \n",
    "        return 1\n",
    "    \n",
    "    a = 0\n",
    "    b = 1\n",
    "    \n",
    "\n",
    "    for i in range(2, n):\n",
    "        next = a + b\n",
    "        a = b\n",
    "        b = next\n",
    "    \n",
    "    return b\n",
    "\n",
    "\n",
    "n = 7 # Find the 7th Fibonacci number\n",
    "print(f\"The {n}th Fibonacci number is: {fibonacci(n)}\")"
   ]
  },
  {
   "cell_type": "markdown",
   "metadata": {},
   "source": [
    "# Hacks\n",
    "\n",
    "Now that we have learned about these various math expressions and operations, there are some hacks that you can complete.\n",
    "\n",
    "\n",
    "1. Write a function that has a defined array of integers. The function should: \n",
    "- Compute the mean.\n",
    "- Compute the median.\n",
    "- Print both results. \n",
    "\n",
    "2. Make a function that takes one variable a. This function should list the sequence of numbers in the Collatz problem. The Collatz Problem is a math problem where you start with a positive integer and if it is odd you multiply by 3 and add 1, and if it is even you divide by 2. Use conditionals and keep repeating or iterating this process, and eventually you should reach 1 no matter what number is taken as input. Make an array that starts at the variable a, and keeps adding integers until it reaches 1, and print the sequence."
   ]
  }
 ],
 "metadata": {
  "kernelspec": {
   "display_name": "venv",
   "language": "python",
   "name": "python3"
  },
  "language_info": {
   "codemirror_mode": {
    "name": "ipython",
    "version": 3
   },
   "file_extension": ".py",
   "mimetype": "text/x-python",
   "name": "python",
   "nbconvert_exporter": "python",
   "pygments_lexer": "ipython3",
   "version": "3.12.5"
  }
 },
 "nbformat": 4,
 "nbformat_minor": 2
}
