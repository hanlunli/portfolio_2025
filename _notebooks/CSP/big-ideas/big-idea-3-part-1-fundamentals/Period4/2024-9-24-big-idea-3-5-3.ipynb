{
 "cells": [
  {
   "cell_type": "raw",
   "metadata": {
    "vscode": {
     "languageId": "raw"
    }
   },
   "source": [
    "---\n",
    "toc: false\n",
    "comments: true\n",
    "layout: post\n",
    "title: 3.5 Python Boolean Hacks\n",
    "description: Student practice on Python Booleans.\n",
    "permalink: /csp/big-idea/p4/3-5-3\n",
    "menu: nav/csp_units/csp_unit3_p4_fundamentals.html\n",
    "---"
   ]
  },
  {
   "cell_type": "markdown",
   "metadata": {
    "vscode": {
     "languageId": "raw"
    }
   },
   "source": [
    "# De Morgan’s Law in Python\n",
    "\n",
    "## Introduction to De Morgan’s Law\n",
    "- Rule for handling logical expressions.\n",
    "- Allows you to simplify conditions.\n",
    "\n",
    "## The Two Key Parts of De Morgan’s Law\n",
    "- **Negating AND:**\n",
    "  - `not (A and B)` becomes `not A or not B`\n",
    "- **Negating OR:**\n",
    "  - `not (A or B)` becomes `not A and not B`"
   ]
  },
  {
   "cell_type": "markdown",
   "metadata": {
    "vscode": {
     "languageId": "javascript"
    }
   },
   "source": [
    "## Applications in Code\n",
    "- Simplifies conditional logic.\n",
    "- Example:"
   ]
  },
  {
   "cell_type": "code",
   "execution_count": 1,
   "metadata": {},
   "outputs": [
    {
     "name": "stdout",
     "output_type": "stream",
     "text": [
      "It's either not raining or not cold.\n",
      "It's either not raining or not cold.\n"
     ]
    }
   ],
   "source": [
    "is_raining = True\n",
    "is_cold = False\n",
    "\n",
    "if not (is_raining and is_cold):\n",
    "    print(\"It's either not raining or not cold.\")\n",
    "\n",
    "if not is_raining or not is_cold:\n",
    "    print(\"It's either not raining or not cold.\")"
   ]
  },
  {
   "cell_type": "markdown",
   "metadata": {
    "vscode": {
     "languageId": "raw"
    }
   },
   "source": [
    "<html lang=\"en\">\n",
    "<head>\n",
    "    <meta charset=\"UTF-8\">\n",
    "    <meta name=\"viewport\" content=\"width=device-width, initial-scale=1.0\">\n",
    "    <title>De Morgan's Law Example in Python</title>\n",
    "</head>\n",
    "<body>\n",
    "    <h1>De Morgan's Law Example in Python</h1>\n",
    "    <button onclick=\"runExample(true, false)\">Example 1 (Raining, Not Cold)</button>\n",
    "    <button onclick=\"runExample(false, true)\">Example 2 (Not Raining, Cold)</button>\n",
    "    <button onclick=\"runExample(true, true)\">Example 3 (Raining and Cold)</button>\n",
    "    <pre id=\"output\"></pre>\n",
    "\n",
    "    <script type=\"text/javascript\">\n",
    "        function runExample(isRaining, isCold) {\n",
    "            let output = '';\n",
    "\n",
    "            // Original condition\n",
    "            if (!(isRaining && isCold)) {\n",
    "                output += \"Original: It's either not raining or not cold.\\n\";\n",
    "            } else {\n",
    "                output += \"Original: It is both raining and cold.\\n\";\n",
    "            }\n",
    "\n",
    "            // Simplified using De Morgan's Law\n",
    "            if (!isRaining || !isCold) {\n",
    "                output += \"Simplified: It's either not raining or not cold.\\n\";\n",
    "            } else {\n",
    "                output += \"Simplified: It is both raining and cold.\\n\";\n",
    "            }\n",
    "\n",
    "            document.getElementById('output').textContent = output;\n",
    "        }\n",
    "    </script>\n",
    "</body>\n",
    "</html>"
   ]
  },
  {
   "cell_type": "markdown",
   "metadata": {},
   "source": [
    "# Python Function Explanation\n",
    "\n",
    "- **What the function does**:\n",
    "  - Creates a function called `run_example` with two inputs: `is_raining` and `is_cold`.\n",
    "  - Starts with an empty message called `output`.\n",
    "\n",
    "- **First Check**:\n",
    "  - It checks if both raining and cold are **not** happening at the same time.\n",
    "  - If that's true, it adds \"Original: It's either not raining or not cold.\" to `output`.\n",
    "\n",
    "- **Second Check**:\n",
    "  - It checks if **either** it's not raining or it's not cold.\n",
    "  - If that's true, it adds \"Simplified: It's either not raining or not cold.\" to `output`.\n",
    "\n",
    "- **Final Step**:\n",
    "  - It returns whatever is in the `output`."
   ]
  },
  {
   "cell_type": "markdown",
   "metadata": {},
   "source": [
    "## Truth Table Explanation\n",
    "\n",
    "### Explanation of the Code:\n",
    "\n",
    "**Headers:** The list `headers` contains column names like `A && B`, `!(A && B)`, etc., which represent the expressions you're evaluating.\n",
    "\n",
    "**Values:** `itertools.product([True, False], repeat=2)` generates all combinations of `True` and `False` for `A` and `B`, i.e., `(True, True)`, `(True, False)`, etc.\n",
    "\n",
    "**Logic Calculation:** For each row, the following expressions are computed:\n",
    "\n",
    "- `A && B`: AND operation between `A` and `B`\n",
    "- `!(A && B)`: Negation of the AND operation\n",
    "- `!A || !B`: De Morgan’s equivalent of `!(A && B)`\n",
    "- `A || B`: OR operation between `A` and `B`\n",
    "- `!(A || B)`: Negation of the OR operation\n",
    "- `!A && !B`: De Morgan’s equivalent of `!(A || B)`"
   ]
  },
  {
   "cell_type": "code",
   "execution_count": 2,
   "metadata": {},
   "outputs": [
    {
     "name": "stdout",
     "output_type": "stream",
     "text": [
      "A | B | A && B | !(A && B) | !A || !B | A || B | !(A || B) | !A && !B\n",
      "-------------------------------------------------------\n",
      "1     | 1     | 1       | 0         | 0          | 1       | 0         | 0         \n",
      "1     | 0     | 0       | 1         | 1          | 1       | 0         | 0         \n",
      "0     | 1     | 0       | 1         | 1          | 1       | 0         | 0         \n",
      "0     | 0     | 0       | 1         | 1          | 0       | 1         | 1         \n"
     ]
    }
   ],
   "source": [
    "import itertools\n",
    "\n",
    "\n",
    "headers = ['A', 'B', 'A AND B', 'NOT (A AND B)', 'NOT A OR NOT B', 'A OR B', 'NOT (A OR B)', 'NOT A AND NOT B']\n",
    "\n",
    "\n",
    "values = list(itertools.product([True, False], repeat=2))\n",
    "\n",
    "\n",
    "def print_truth_table():\n",
    "\n",
    "    print(f\"{' | '.join(headers)}\")\n",
    "    print(\"-\" * 80)\n",
    "    \n",
    "  \n",
    "    for A, B in values:\n",
    "        a_and_b = A and B\n",
    "        not_a_and_b = not (A and B)\n",
    "        not_a_or_not_b = not A or not B\n",
    "        a_or_b = A or B\n",
    "        not_a_or_b = not (A or B)\n",
    "        not_a_and_not_b = not A and not B\n",
    "        \n",
    "       \n",
    "        print(f\"{A:<5} | {B:<5} | {a_and_b:<9} | {not_a_and_b:<12} | {not_a_or_not_b:<13} | {a_or_b:<7} | {not_a_or_b:<12} | {not_a_and_not_b:<13}\")\n",
    "\n",
    "\n",
    "print_truth_table()\n"
   ]
  }
 ],
 "metadata": {
  "kernelspec": {
   "display_name": "Python 3",
   "language": "python",
   "name": "python3"
  },
  "language_info": {
   "codemirror_mode": {
    "name": "ipython",
    "version": 3
   },
   "file_extension": ".py",
   "mimetype": "text/x-python",
   "name": "python",
   "nbconvert_exporter": "python",
   "pygments_lexer": "ipython3",
   "version": "3.12.3"
  }
 },
 "nbformat": 4,
 "nbformat_minor": 2
}
