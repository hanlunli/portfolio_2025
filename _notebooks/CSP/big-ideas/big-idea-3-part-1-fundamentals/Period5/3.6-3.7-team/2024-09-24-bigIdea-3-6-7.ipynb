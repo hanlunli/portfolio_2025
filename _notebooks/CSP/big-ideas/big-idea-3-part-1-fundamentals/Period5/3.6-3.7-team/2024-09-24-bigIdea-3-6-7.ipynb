{
 "cells": [
  {
   "cell_type": "raw",
   "metadata": {
    "vscode": {
     "languageId": "raw"
    }
   },
   "source": [
    "---\n",
    "title: Pseudocode for Lesson 3.6 and 3.7\n",
    "description: Writing pseudocode and additional hacks for each thing. Possibly adding flowcharts\n",
    "layout: post\n",
    "type: hacks\n",
    "comments: true\n",
    "---"
   ]
  },
  {
   "cell_type": "markdown",
   "metadata": {},
   "source": [
    "# Pseudocode!\n",
    "\n",
    "```\n",
    "if blah blah blah is true\n",
    "    display poopy pants\n",
    "```"
   ]
  }
 ],
 "metadata": {
  "kernelspec": {
   "display_name": "venv",
   "language": "python",
   "name": "python3"
  },
  "language_info": {
   "codemirror_mode": {
    "name": "ipython",
    "version": 3
   },
   "file_extension": ".py",
   "mimetype": "text/x-python",
   "name": "python",
   "nbconvert_exporter": "python",
   "pygments_lexer": "ipython3",
   "version": "3.12.6"
  }
 },
 "nbformat": 4,
 "nbformat_minor": 2
}
