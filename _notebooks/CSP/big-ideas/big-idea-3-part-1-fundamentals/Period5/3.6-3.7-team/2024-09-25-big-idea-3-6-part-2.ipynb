{
 "cells": [
  {
   "cell_type": "raw",
   "metadata": {
    "vscode": {
     "languageId": "raw"
    }
   },
   "source": [
    "---\n",
    "layout: post\n",
    "title: Big Ideas 3.6 Conditionals Part 2\n",
    "Description: If Else Statements\n",
    "author: Nathan\n",
    "---\n",
    "\n"
   ]
  },
  {
   "cell_type": "markdown",
   "metadata": {},
   "source": [
    "# 3.6 Conditionals Part 2"
   ]
  },
  {
   "cell_type": "markdown",
   "metadata": {},
   "source": [
    "If {} Else {}\n",
    "An if else statement lets a program execute a different action based on whether a specific condition is true or not."
   ]
  },
  {
   "cell_type": "code",
   "execution_count": null,
   "metadata": {},
   "outputs": [],
   "source": [
    "%%python\n",
    "# Example\n",
    "number = 5\n",
    "\n",
    "if number > 0:\n",
    "    print(\"Positive\")\n",
    "else:\n",
    "    print(\"Not positive\")\n",
    "\n",
    "# Here some basic Hacks for If {} Else {} Statements\n",
    "number = 5\n",
    "message = \"Positive\" if number > 0 else \"Not positive\"\n",
    "print(message)\n",
    "\n",
    "# Define a number\n",
    "number = -3\n",
    "\n",
    "message = (\n",
    "    \"Positive\" if number > 0 \n",
    "    else \"Zero\" if number == 0 \n",
    "    else \"Negative\"\n",
    ")\n",
    "\n",
    "# Print the result\n",
    "print(message)\n"
   ]
  },
  {
   "cell_type": "code",
   "execution_count": null,
   "metadata": {
    "vscode": {
     "languageId": "javascript"
    }
   },
   "outputs": [],
   "source": [
    "%%js\n",
    "// Example 1\n",
    "let number = 5;\n",
    "\n",
    "if (number > 0) {\n",
    "    console.log(\"Positive\");\n",
    "} else {\n",
    "    console.log(\"Not positive\");\n",
    "}\n",
    "\n",
    "// Example 2: Using a ternary operator\n",
    "number = 5;\n",
    "let message = number > 0 ? \"Positive\" : \"Not positive\";\n",
    "console.log(message);\n",
    "\n",
    "// Example 3: Defining a number and using nested ternary operators\n",
    "number = -3;\n",
    "message = number > 0 ? \"Positive\" : (number === 0 ? \"Zero\" : \"Negative\");\n",
    "console.log(message);"
   ]
  }
 ],
 "metadata": {
  "language_info": {
   "name": "python"
  }
 },
 "nbformat": 4,
 "nbformat_minor": 2
}
